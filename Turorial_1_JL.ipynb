{
 "cells": [
  {
   "cell_type": "markdown",
   "id": "90f07d93-ead8-48e4-a99a-24aceb2e4ed7",
   "metadata": {},
   "source": [
    "# Tutorial 1\n",
    "Course: Creation and Annotation of Linguistic Resources\n",
    "\n",
    "Department: Computational Linguistics\n",
    "\n",
    "Semester: Spring 2021\n",
    "\n",
    "Lecturer: Duygu Ataman\n",
    "\n",
    "Tutorer: Tobias Weisskopf https://github.com/BlackSquirrelz"
   ]
  },
  {
   "cell_type": "markdown",
   "id": "334c025a-9b56-4f28-abe4-47f65c0e9154",
   "metadata": {},
   "source": [
    "---\n",
    "\n",
    "## Agenda:\n",
    "\n",
    "- GIT\n",
    "- IDE\n",
    "- Virtual Environment\n",
    "\n",
    "- Examples\n",
    "\n",
    "- Questions\n",
    "\n",
    "- Help with Projects"
   ]
  },
  {
   "cell_type": "markdown",
   "id": "1a379e18-c1a7-4b48-8c2f-b0ad48fdad8a",
   "metadata": {},
   "source": [
    "---"
   ]
  },
  {
   "cell_type": "markdown",
   "id": "ecd419b4-f9d4-4c03-a29d-f72235973357",
   "metadata": {},
   "source": [
    "# Examples\n",
    "Required imports"
   ]
  },
  {
   "cell_type": "code",
   "execution_count": 44,
   "id": "7fdca38c-1184-43e7-bc68-4458af96e21e",
   "metadata": {},
   "outputs": [],
   "source": [
    "import xml.etree.ElementTree as ET # For XML Parsing\n",
    "import csv # For reading CSV\n",
    "import json\n",
    "import requests # For getting content from the web\n",
    "from bs4 import BeautifulSoup # For parsing content from the web"
   ]
  },
  {
   "cell_type": "markdown",
   "id": "b811d553-89ad-4fbf-9f7f-6d262fc2cf1b",
   "metadata": {},
   "source": [
    "## Function definitions\n",
    "Different ways how to read data from the file system\n",
    "\n",
    "- Example 1: Regular Text File\n",
    "- Example 2: CSV File\n",
    "- Example 3: XML File\n",
    "- Example 4: JSON File\n",
    "- Example 5: Getting Content via API\n",
    "- Example 6: Web Content with other means"
   ]
  },
  {
   "cell_type": "markdown",
   "id": "57ce5d9f-a94c-4abb-8a3e-56d7f22c1b30",
   "metadata": {},
   "source": [
    "## Example 1 - Generic Text File"
   ]
  },
  {
   "cell_type": "code",
   "execution_count": 4,
   "id": "40c55810-4c62-4cae-bf21-7882ab2d06c1",
   "metadata": {},
   "outputs": [],
   "source": [
    "# Generic Function to read a file\n",
    "def open_file(file_path):\n",
    "    with open(file_path, 'r') as f:\n",
    "        text = [line.strip() for line in f]\n",
    "    return text"
   ]
  },
  {
   "cell_type": "code",
   "execution_count": 8,
   "id": "24e2a7d1-0255-404d-9f1d-d4e5031abf64",
   "metadata": {},
   "outputs": [
    {
     "name": "stdout",
     "output_type": "stream",
     "text": [
      "\n",
      "Reading a regular Text File.\n",
      "Output: ['This is a regular file.', 'It has some lines, and some punctuation.']\n",
      "\n"
     ]
    }
   ],
   "source": [
    "# Example 1\n",
    "print(\"\\nReading a regular Text File.\")\n",
    "example_1 = open_file('Data/example_1.txt')\n",
    "print(f\"Output: {example_1}\\n\")"
   ]
  },
  {
   "cell_type": "markdown",
   "id": "e9baa2df-4303-4a9f-bd82-05fe37da2e67",
   "metadata": {},
   "source": [
    "## Example 2 - CSV"
   ]
  },
  {
   "cell_type": "code",
   "execution_count": 12,
   "id": "556dc60b-c531-4f05-926d-66e79c044735",
   "metadata": {},
   "outputs": [],
   "source": [
    "# Reading CSV Files\n",
    "def csv_open(file_path):\n",
    "    with open(file_path, newline='\\n') as csvfile:\n",
    "        reader = csv.reader(csvfile, delimiter=',', quotechar='\"')\n",
    "        text = [token for token in reader]\n",
    "    return text"
   ]
  },
  {
   "cell_type": "code",
   "execution_count": 13,
   "id": "09d64267-81cb-458d-8bd9-23e185ad4f4e",
   "metadata": {},
   "outputs": [
    {
     "name": "stdout",
     "output_type": "stream",
     "text": [
      "\n",
      "Reading a CSV File.\n",
      "Output: [['Basel', 'CH'], ['Zurich', 'CH'], ['Bern', 'CH'], ['Boston', 'USA'], ['Beijing', 'CN'], ['Tokyo', 'JP'], ['Kuala Lumpur', 'MY'], ['Singapore', 'SG']]\n",
      "\n"
     ]
    }
   ],
   "source": [
    "print(\"\\nReading a CSV File.\")\n",
    "example_2 = csv_open('Data/example_2.csv')\n",
    "print(f\"Output: {example_2}\\n\")"
   ]
  },
  {
   "cell_type": "markdown",
   "id": "3533c84d-99f8-4473-960a-fdc82365ffc6",
   "metadata": {},
   "source": [
    "## Example 3 - XML\n",
    "XML (eXtensible Markup Language) used as a human and machine readable format to share data between software, or to send data to a middle ware."
   ]
  },
  {
   "cell_type": "code",
   "execution_count": 29,
   "id": "538833da-4bdd-4589-be48-25b398a1b9e7",
   "metadata": {},
   "outputs": [],
   "source": [
    "# Parsing XML Files\n",
    "def xml_parsing(file_path):\n",
    "    root_node = ET.parse(file_path).getroot()\n",
    "    text = [tag.text for tag in root_node.findall('token')]\n",
    "    return text"
   ]
  },
  {
   "cell_type": "code",
   "execution_count": 30,
   "id": "96b48308-a8e8-40b3-938e-f750c2c1ae34",
   "metadata": {},
   "outputs": [
    {
     "name": "stdout",
     "output_type": "stream",
     "text": [
      "\n",
      "Parsing an XML Text File.\n",
      "Output: ['This', 'is', 'a', 'sentence']\n",
      "\n"
     ]
    }
   ],
   "source": [
    "print(\"\\nParsing an XML File.\")\n",
    "example_3 = xml_parsing('Data/example_3.xml')\n",
    "print(f\"Output: {example_3}\\n\")"
   ]
  },
  {
   "cell_type": "markdown",
   "id": "ce6a1c7e-4e54-49dd-923c-0f5178a3983c",
   "metadata": {},
   "source": [
    "Further reading: \n",
    "\n",
    "http://fedora.clarin-d.uni-saarland.de/teaching/Corpus_Linguistics/Tutorial_XML.html"
   ]
  },
  {
   "cell_type": "markdown",
   "id": "fcce65e7-f054-4955-9592-1fbfd33df3c9",
   "metadata": {},
   "source": [
    "## Example 4 - JSON\n",
    "Similar to XML, JSON  (JavaScript Object Notation) is used for transferring data from one system to another, it is often used to make API calls (more on that later). Other than XML JSON is easier to understand (IMO), and more modern."
   ]
  },
  {
   "cell_type": "code",
   "execution_count": 45,
   "id": "5906bf7d-e608-4ecd-8df3-01f7232dfc15",
   "metadata": {},
   "outputs": [],
   "source": [
    "def get_json(file_name):\n",
    "    \"\"\" Generic function to retrieve data from JSON file\"\"\"\n",
    "    with open(file_name) as f:\n",
    "        data = json.load(f)\n",
    "        return data"
   ]
  },
  {
   "cell_type": "code",
   "execution_count": 51,
   "id": "6920e219-3528-4b5c-b4a5-003fcddafc1a",
   "metadata": {},
   "outputs": [
    {
     "name": "stdout",
     "output_type": "stream",
     "text": [
      "\n",
      "Parsing a JSON File.\n",
      "Output: {'Dogs': [{'category': 'Companion dogs', 'name': 'Chihuahua'}, {'category': 'Hounds', 'name': 'Foxhound'}]}\n"
     ]
    }
   ],
   "source": [
    "print(\"\\nParsing a JSON File.\")\n",
    "example_4 = get_json('Data/example_4.json')\n",
    "print(f\"Output: {example_4}\")"
   ]
  },
  {
   "cell_type": "code",
   "execution_count": 58,
   "id": "9515de90-32fc-4369-ac55-f8b7e5e7d574",
   "metadata": {},
   "outputs": [
    {
     "data": {
      "text/plain": [
       "dict"
      ]
     },
     "execution_count": 58,
     "metadata": {},
     "output_type": "execute_result"
    }
   ],
   "source": [
    "type(example_4)"
   ]
  },
  {
   "cell_type": "code",
   "execution_count": 59,
   "id": "57ab7770-21fe-4b05-8c01-c24f95d53f67",
   "metadata": {},
   "outputs": [],
   "source": [
    "dogs = example_4['Dogs']"
   ]
  },
  {
   "cell_type": "markdown",
   "id": "33b775cf-6cea-49a6-be31-a55944e406ea",
   "metadata": {},
   "source": [
    "This means that we an access the elements, like in a dictionary. For instance to find the names of the dogs:"
   ]
  },
  {
   "cell_type": "code",
   "execution_count": 63,
   "id": "966421df-e452-4012-864d-fa0ba1ec36b7",
   "metadata": {},
   "outputs": [
    {
     "name": "stdout",
     "output_type": "stream",
     "text": [
      "Chihuahua\n",
      "Foxhound\n"
     ]
    }
   ],
   "source": [
    "for dog in dogs:\n",
    "    print(dog['name'])"
   ]
  },
  {
   "cell_type": "markdown",
   "id": "e6835c32-bb60-455b-8b30-97b7c02e63ea",
   "metadata": {},
   "source": [
    "---"
   ]
  },
  {
   "cell_type": "markdown",
   "id": "eb1576b4-bf93-4e58-946e-e05a392bb2c2",
   "metadata": {},
   "source": [
    "## Example 5: More specialised functions - Calling API's \n",
    "\n",
    "Getting Data from the World Wide Web. Companies and Institutions sometimes offer Application Programming Interfaces (API). We can use them to get additional data from websites."
   ]
  },
  {
   "cell_type": "code",
   "execution_count": 87,
   "id": "9695424f-aa3f-4388-abd9-08c29140e4fa",
   "metadata": {},
   "outputs": [],
   "source": [
    "# Getting Content from the Internet\n",
    "# Documentation: https://docs.python.org/3/library/urllib.request.html#module-urllib.request\n",
    "def call_api(url):\n",
    "    response = requests.get(url)\n",
    "    if response.status_code != 200:\n",
    "        response = None\n",
    "    return response.json()"
   ]
  },
  {
   "cell_type": "code",
   "execution_count": 88,
   "id": "c350c949-b27f-46f2-88e0-37e4f44c4a81",
   "metadata": {},
   "outputs": [],
   "source": [
    "example_5 = call_api('http://urbanscraper.herokuapp.com/define/Dogecoin')"
   ]
  },
  {
   "cell_type": "code",
   "execution_count": 89,
   "id": "97d74290-0f90-4e9e-8fee-0b400797071d",
   "metadata": {},
   "outputs": [
    {
     "name": "stdout",
     "output_type": "stream",
     "text": [
      "<class 'dict'>\n"
     ]
    }
   ],
   "source": [
    "print(type(example_5))"
   ]
  },
  {
   "cell_type": "code",
   "execution_count": 95,
   "id": "343c6a9c-8fbd-4abe-baa6-67d518845e99",
   "metadata": {},
   "outputs": [
    {
     "name": "stdout",
     "output_type": "stream",
     "text": [
      "The term: Dogecoin Is defined as 'An online decentralized cryptocurrency which was originally created as a joke. Similar to Litecoin, Dogecoin uses the hashing algorithm, Scrypt.' for example: 'Dogecoin worths almost nothing, how come you believe that Dogecoin will rise?'\n"
     ]
    }
   ],
   "source": [
    "print(f\"The term: {example_5['term']} Is defined as '{example_5['definition']}' for example: '{example_5['example']}'\")"
   ]
  },
  {
   "cell_type": "markdown",
   "id": "bc716bed-afec-40c0-8a99-5b84c5f24630",
   "metadata": {},
   "source": [
    "## Example 6: More specialised functions - Other Web Content\n",
    "\n",
    "Getting Data from the World Wide Web. This is where things get tricky. Luckily there are already some good resources out there:\n",
    "\n",
    "https://github.com/pleyad/HorizonsCorpus"
   ]
  },
  {
   "cell_type": "code",
   "execution_count": 16,
   "id": "8441ed62-d4c9-43ac-9e88-a5f647f89465",
   "metadata": {},
   "outputs": [],
   "source": [
    "# Getting Content from the Internet\n",
    "# Documentation: https://docs.python.org/3/library/urllib.request.html#module-urllib.request\n",
    "def get_web_content(url):\n",
    "    response = requests.get(url)\n",
    "    if response.status_code != 200:\n",
    "        response = None\n",
    "    return response.text"
   ]
  },
  {
   "cell_type": "markdown",
   "id": "c3e55337-52b9-42ac-9f96-6bfe83cc6ae0",
   "metadata": {},
   "source": [
    "We are starting with one URL to get."
   ]
  },
  {
   "cell_type": "code",
   "execution_count": 32,
   "id": "06e9fcb8-8778-4748-a6b9-98cb1e6d3e27",
   "metadata": {},
   "outputs": [
    {
     "name": "stdout",
     "output_type": "stream",
     "text": [
      "\n",
      "Parsing  Text from the Web.\n"
     ]
    }
   ],
   "source": [
    "# Getting Content from the Web\n",
    "print(\"\\nParsing  Text from the Web.\")\n",
    "example_4 = get_web_content('https://www.horizonte-magazin.ch/2020/12/03/parfuem-der-baeume-ist-kampfstoff/')\n",
    "#print(f\"Output: {example_4}\\n\")"
   ]
  },
  {
   "cell_type": "code",
   "execution_count": 34,
   "id": "991817f0-1e4d-4e55-ba31-af9d87ada2f5",
   "metadata": {},
   "outputs": [],
   "source": [
    "def web_content_parsing(html_doc):\n",
    "    soup = BeautifulSoup(html_doc, 'html.parser')\n",
    "    return soup"
   ]
  },
  {
   "cell_type": "code",
   "execution_count": 39,
   "id": "5fb1dc1e-c5ed-4af3-b03b-7b7ec413de5d",
   "metadata": {},
   "outputs": [],
   "source": [
    "parsed_web = web_content_parsing(example_4)"
   ]
  },
  {
   "cell_type": "markdown",
   "id": "9cc757a8-ad7b-4181-a38f-3cb5c91d44ff",
   "metadata": {},
   "source": [
    "Getting all the links in a document, so we could further process those in the future."
   ]
  },
  {
   "cell_type": "code",
   "execution_count": 71,
   "id": "fe292982-6fbf-4524-a708-8999d103edc1",
   "metadata": {},
   "outputs": [
    {
     "name": "stdout",
     "output_type": "stream",
     "text": [
      "['https://www.horizons-mag.ch/2020/12/03/whispering-trees/', 'https://www.revue-horizons.ch/2020/12/03/larme-des-arbres-est-leur-parfum/', 'https://www.facebook.com/horizonsmagazine', 'http://www.twitter.com/horizonte_de', 'https://www.horizonte-magazin.ch/', 'https://www.horizonte-magazin.ch/', 'https://www.horizonte-magazin.ch/kategorie/fokus/', 'https://www.horizonte-magazin.ch/kategorie/fokus/diversitaet-an-hochschulen/', 'https://www.horizonte-magazin.ch/kategorie/fokus/das-perfektionierte-essen/', 'https://www.horizonte-magazin.ch/kategorie/fokus/die-lehren-aus-der-pandemie/', 'https://www.horizonte-magazin.ch/kategorie/fokus/geistreich-gegen-die-klimakatastrophe/', 'https://www.horizonte-magazin.ch/kategorie/hintergrund/', 'https://www.horizonte-magazin.ch/kategorie/kurz-und-knapp/', 'https://www.horizonte-magazin.ch/kategorie/innovation/', 'https://www.horizonte-magazin.ch/kategorie/mensch-und-meinung/', 'https://www.horizonte-magazin.ch/kategorie/in-bildern/', 'https://www.horizonte-magazin.ch/autor/yvonnevahlensieck/', 'https://www.horizonte-magazin.ch/2020/12/03/', 'https://www.addtoany.com/add_to/facebook?linkurl=https%3A%2F%2Fwww.horizonte-magazin.ch%2F2020%2F12%2F03%2Fparfuem-der-baeume-ist-kampfstoff%2F&linkname=Parf%C3%BCm%20der%20B%C3%A4ume%20ist%20Kampfstoff', 'https://www.addtoany.com/add_to/twitter?linkurl=https%3A%2F%2Fwww.horizonte-magazin.ch%2F2020%2F12%2F03%2Fparfuem-der-baeume-ist-kampfstoff%2F&linkname=Parf%C3%BCm%20der%20B%C3%A4ume%20ist%20Kampfstoff', 'https://www.addtoany.com/share', 'https://creativecommons.org/licenses/by-nc-nd/4.0/deed.de', 'https://www.addtoany.com/add_to/facebook?linkurl=https%3A%2F%2Fwww.horizonte-magazin.ch%2F2020%2F12%2F03%2Fparfuem-der-baeume-ist-kampfstoff%2F&linkname=Parf%C3%BCm%20der%20B%C3%A4ume%20ist%20Kampfstoff', 'https://www.addtoany.com/add_to/twitter?linkurl=https%3A%2F%2Fwww.horizonte-magazin.ch%2F2020%2F12%2F03%2Fparfuem-der-baeume-ist-kampfstoff%2F&linkname=Parf%C3%BCm%20der%20B%C3%A4ume%20ist%20Kampfstoff', 'https://www.addtoany.com/share', 'https://www.horizonte-magazin.ch/2019/12/05/roboter-auf-geheimer-mission-im-tierreich/', 'https://www.horizonte-magazin.ch/2021/03/04/helvetia-greift-nach-den-sternen/', 'https://www.horizonte-magazin.ch/2021/03/04/wo-kleider-leute-der-vergangenheit-machen/', 'https://www.horizonte-magazin.ch/2021/03/04/forschende-tweeten-fleissig/', 'https://www.horizonte-magazin.ch/2019/12/05/roboter-auf-geheimer-mission-im-tierreich/', 'https://www.horizonte-magazin.ch/2021/03/04/die-vielfalt-der-vielfalt/', 'https://www.horizonte-magazin.ch/2021/03/04/helvetia-greift-nach-den-sternen/', 'https://www.horizonte-magazin.ch/2021/03/04/aufgefallen-versuche-rund-um-die-welt/']\n"
     ]
    }
   ],
   "source": [
    "links = [link.get('href') for link in parsed_web.find_all('a') if link.get('href')[:1] == 'h']\n",
    "print(links)"
   ]
  },
  {
   "cell_type": "code",
   "execution_count": 73,
   "id": "c7d823d5-0a6b-400a-961d-424843a3939c",
   "metadata": {},
   "outputs": [],
   "source": [
    "article_title = parsed_web.title.text"
   ]
  },
  {
   "cell_type": "code",
   "execution_count": 74,
   "id": "709a4afe-7315-4e50-8e1e-c84f4ba13f40",
   "metadata": {},
   "outputs": [],
   "source": [
    "article_links = {'article': article_title, 'links': links}"
   ]
  },
  {
   "cell_type": "code",
   "execution_count": 75,
   "id": "93e3e6ce-37ca-4b77-9678-ab4702267981",
   "metadata": {},
   "outputs": [
    {
     "name": "stdout",
     "output_type": "stream",
     "text": [
      "{'article': 'Parfüm der Bäume ist Kampfstoff - Horizonte', 'links': ['https://www.horizons-mag.ch/2020/12/03/whispering-trees/', 'https://www.revue-horizons.ch/2020/12/03/larme-des-arbres-est-leur-parfum/', 'https://www.facebook.com/horizonsmagazine', 'http://www.twitter.com/horizonte_de', 'https://www.horizonte-magazin.ch/', 'https://www.horizonte-magazin.ch/', 'https://www.horizonte-magazin.ch/kategorie/fokus/', 'https://www.horizonte-magazin.ch/kategorie/fokus/diversitaet-an-hochschulen/', 'https://www.horizonte-magazin.ch/kategorie/fokus/das-perfektionierte-essen/', 'https://www.horizonte-magazin.ch/kategorie/fokus/die-lehren-aus-der-pandemie/', 'https://www.horizonte-magazin.ch/kategorie/fokus/geistreich-gegen-die-klimakatastrophe/', 'https://www.horizonte-magazin.ch/kategorie/hintergrund/', 'https://www.horizonte-magazin.ch/kategorie/kurz-und-knapp/', 'https://www.horizonte-magazin.ch/kategorie/innovation/', 'https://www.horizonte-magazin.ch/kategorie/mensch-und-meinung/', 'https://www.horizonte-magazin.ch/kategorie/in-bildern/', 'https://www.horizonte-magazin.ch/autor/yvonnevahlensieck/', 'https://www.horizonte-magazin.ch/2020/12/03/', 'https://www.addtoany.com/add_to/facebook?linkurl=https%3A%2F%2Fwww.horizonte-magazin.ch%2F2020%2F12%2F03%2Fparfuem-der-baeume-ist-kampfstoff%2F&linkname=Parf%C3%BCm%20der%20B%C3%A4ume%20ist%20Kampfstoff', 'https://www.addtoany.com/add_to/twitter?linkurl=https%3A%2F%2Fwww.horizonte-magazin.ch%2F2020%2F12%2F03%2Fparfuem-der-baeume-ist-kampfstoff%2F&linkname=Parf%C3%BCm%20der%20B%C3%A4ume%20ist%20Kampfstoff', 'https://www.addtoany.com/share', 'https://creativecommons.org/licenses/by-nc-nd/4.0/deed.de', 'https://www.addtoany.com/add_to/facebook?linkurl=https%3A%2F%2Fwww.horizonte-magazin.ch%2F2020%2F12%2F03%2Fparfuem-der-baeume-ist-kampfstoff%2F&linkname=Parf%C3%BCm%20der%20B%C3%A4ume%20ist%20Kampfstoff', 'https://www.addtoany.com/add_to/twitter?linkurl=https%3A%2F%2Fwww.horizonte-magazin.ch%2F2020%2F12%2F03%2Fparfuem-der-baeume-ist-kampfstoff%2F&linkname=Parf%C3%BCm%20der%20B%C3%A4ume%20ist%20Kampfstoff', 'https://www.addtoany.com/share', 'https://www.horizonte-magazin.ch/2019/12/05/roboter-auf-geheimer-mission-im-tierreich/', 'https://www.horizonte-magazin.ch/2021/03/04/helvetia-greift-nach-den-sternen/', 'https://www.horizonte-magazin.ch/2021/03/04/wo-kleider-leute-der-vergangenheit-machen/', 'https://www.horizonte-magazin.ch/2021/03/04/forschende-tweeten-fleissig/', 'https://www.horizonte-magazin.ch/2019/12/05/roboter-auf-geheimer-mission-im-tierreich/', 'https://www.horizonte-magazin.ch/2021/03/04/die-vielfalt-der-vielfalt/', 'https://www.horizonte-magazin.ch/2021/03/04/helvetia-greift-nach-den-sternen/', 'https://www.horizonte-magazin.ch/2021/03/04/aufgefallen-versuche-rund-um-die-welt/']}\n"
     ]
    }
   ],
   "source": [
    "print(article_links)"
   ]
  },
  {
   "cell_type": "markdown",
   "id": "1e19ac65-0ff5-4c2e-b980-441c810f05c3",
   "metadata": {},
   "source": [
    "---\n",
    "# References:\n",
    "\n",
    "https://github.com/pleyad/HorizonsCorpus\n",
    "\n",
    "https://beautiful-soup-4.readthedocs.io/en/latest/\n",
    "\n",
    "https://www.askpython.com/python/examples/python-xml-parser"
   ]
  },
  {
   "cell_type": "code",
   "execution_count": 113,
   "id": "92441388-1950-40ef-af52-b9e9ef3e114e",
   "metadata": {},
   "outputs": [
    {
     "name": "stdout",
     "output_type": "stream",
     "text": [
      "\n",
      "\n",
      "\n",
      "\n",
      "\n",
      "\n",
      "\n",
      "\n",
      "\n",
      "\n",
      "\n",
      "\n",
      "\n",
      "\n",
      "\n",
      "\n",
      "\n",
      "\n",
      "\n",
      "\n",
      "\n",
      "\n",
      "\n",
      "\n",
      "\n",
      "\n",
      "\n",
      "\n",
      "\n",
      "\n",
      "\n",
      "Parfüm der Bäume ist Kampfstoff - Horizonte\n",
      "\n",
      "\n",
      "\n",
      "\n",
      "\n",
      "\n",
      "\n",
      "\n",
      "\n",
      "\n",
      "\n",
      "\n",
      "\n",
      "\n",
      "\n",
      "\n",
      "\n",
      "\n",
      "\n",
      "\n",
      "\n",
      "\n",
      "\n",
      "\n",
      "\n",
      "\n",
      "\n",
      "\n",
      "\n",
      "\n",
      "\n",
      "\n",
      "\n",
      "\n",
      "\n",
      "\n",
      "\n",
      "\n",
      "\n",
      "\n",
      "\n",
      "\n",
      "\n",
      "\n",
      "\n",
      "\n",
      "\n",
      "\n",
      "\n",
      "\n",
      "\n",
      "\n",
      "\n",
      "\n",
      "\n",
      "\n",
      "\n",
      "\n",
      "\n",
      "\n",
      "\n",
      "\n",
      " \n",
      "\n",
      "\n",
      "\n",
      "\n",
      "\n",
      "\n",
      "\n",
      "\n",
      "\n",
      "\n",
      "\n",
      "\n",
      "AbonnierenArchiv\n",
      "\n",
      "\n",
      "\n",
      "\n",
      " \n",
      "\n",
      "\n",
      "\n",
      "ENFR \n",
      "\n",
      "  \n",
      "\n",
      "\n",
      "\n",
      "\n",
      "Horizonte\n",
      "\n",
      "\n",
      "\n",
      "\n",
      "Fokus \n",
      "\n",
      "Diversität an Hochschulen\n",
      "Das perfektionierte Essen\n",
      "Die Lehren aus der Pandemie\n",
      "Geistreich gegen die Klimakatastrophe\n",
      "> Weitere Themen\n",
      "\n",
      "\n",
      "Hintergrund\n",
      "Kurz und knapp\n",
      "Innovation\n",
      "Mensch und Meinung\n",
      "In Bildern\n",
      "\n",
      "\n",
      "\n",
      "\n",
      "\n",
      "\n",
      "\n",
      "\n",
      "\n",
      "WALDÖKOLOGIE\n",
      "Parfüm der Bäume ist Kampfstoff\n",
      "Die Pflanzen im Wald setzen viele flüchtige Stoffe frei, die eine Duftwolke bilden. Sie könnte etwas über den Zustand des Forstes verraten.\n",
      "\n",
      "Yvonne Vahlensieck, 3. Dezember 2020\n",
      "\n",
      "\n",
      "\n",
      "\n",
      "Die Waldluft ist voller Duftstoffe. Die für Menschen meist wohlriechenden Moleküle sind die Schlachtrufe der Pflanzen, um gegen ihre Fressfeinde zu mobilisieren. | Foto: imageBROKER\n",
      "Es ist bekannt, dass Blüten Duftstoffe produzieren, um Bestäuber wie Bienen und Schmetterlinge anzulocken. Doch nur wenige wissen, dass auch grüne Blätter ständig chemische Substanzen in die Luft abgeben. «Diese Stoffe sind die Sprache der Pflanzen, in der sie mit sich selbst und mit anderen Arten kommunizieren», sagt der Biologieprofessor Ted Turlings von der Universität Neuenburg. Er hat mitentdeckt, dass Blätter solche Chemikalien etwa als eine Art Alarmsignal freisetzen, wenn sie von Insekten angefressen werden. So aktivieren sie ihre eigenen Abwehrmechanismen, rekrutieren natürliche Feinde der Insekten und informieren benachbarte Pflanzen.\n",
      "Während viele Forschungsgruppen die Funktion dieser Substanzen in einzelnen Arten untersuchen, geht die Ökologin Pengjuan Zu einen Schritt weiter. Sie will die Duftwolken von ganzen Wäldern erfassen und so das gesamte Netzwerk an Interaktionen zwischen Pflanzen, Schädlingen und Nützlingen verstehen: «Die chemischen Profile sind wie Fingerabdrücke der Pflanzen und stellen einen wichtigen Kommunikationskanal mit Insekten dar. Wenn wir diese chemischen Gespräche sehr genau belauschen, so gibt uns das möglicherweise Auskunft über die Biodiversität und das Befinden des Waldes.»\n",
      "«Wenn wir die chemischen Gespräche belauschen, so gibt uns das möglicherweise Auskunft über die Biodiversität und das Befinden des Waldes.»Pengjuan Zu\n",
      "Als Postdoktorandin am Massachusetts Institute of Technology hat sie bereits die Duftwolke eines tropischen Trockenwalds in Mexiko analysiert. Hierzu stülpte sie Plastikbecher mit kleinen Silikonfäden über die Blätter von verschiedenen Baumarten und verschloss sie luftdicht. Das Silikon wirkt dabei wie ein Schwamm und saugt die von den Blättern produzierten flüchtigen Substanzen auf. Eine Analyse der so eingefangenen Stoffe ergab, dass die 20 untersuchten Baumarten eine Vielzahl an flüchtigen Stoffen abgaben – viele davon wurden von mehreren Arten gleichzeitig produziert. Die 28 bei der Feldforschung gefundenen schädlichen Raupen auf den Blättern griffen aber jeweils immer nur eine oder wenige Baumarten an.\n",
      "Der Wald erhält eine Diagnose\n",
      "Ein Computermodell zeigte eine mögliche Erklärung für diese Redundanz an pflanzlichen Duftstoffen und die Spezialisierung der Raupen. Laut Zus Hypothese ist dies das Ergebnis eines Wettrüstens beim Informationsaustausch zwischen Pflanzen und Schädlingen im Verlauf der Evolution: Die Pflanzen verwirren die Schädlinge mit immer neuen Duftkombinationen, woraufhin sich diese durch präzisere Geruchswahrnehmung anpassen – und das Spiel von Neuem beginnt.\n",
      "Demnächst möchte Pengjuan Zu als Gruppenleiterin an der ETH Zürich in weiteren Waldtypen die chemischen Gespräche zwischen Pflanzen und Insekten erfassen, vergleichen und am Computer modellieren – unter anderem in China, Mexiko und in der Schweiz. So gibt es beispielsweise im schweizerischen Calanda-Massiv einen gut etablierten Forschungsstandort, an dem kleine Parzellen an mehreren Orten ausgestochen und auf verschiedene Höhen überführt werden. So kann Zu die von den Pflanzengemeinschaften freigesetzten Substanzen unter verschiedenen klimatischen Bedingungen vergleichen.\n",
      "«Pengjuan Zu ist hier etwas sehr Interessantem auf der Spur. Sie möchte die Sprache der Pflanzen entschlüsseln.»\n",
      "Die Ökologin erwartet, dass die individuelle Duftwolke nicht nur etwas über die Artenvielfalt eines Waldes verrät. Sie hält es auch für wahrscheinlich, dass äussere Einflüsse wie Trockenstress, menschliche Bewirtschaftung oder ein Schädlingsbefall die Zusammensetzung der Duftwolke verändern. So liesse sich mittels Duftanalyse einfach und schnell eine Diagnose über den Zustand eines Waldes erstellen: «Dies ist das eigentliche Ziel meiner Forschung.»\n",
      "Ted Turlings hält dieses Vorhaben zwar für sehr ehrgeizig und schwierig, aber mit den neusten analytischen und mathematischen Methoden grundsätzlich für machbar: «Man kann sicher anhand des Geruchs die Stimmung einer Pflanze feststellen und aus der Kombination und dem Verhältnis der Stoffe etwas über den Zustand des Waldes herauslesen. Pengjuan Zu ist hier etwas sehr Interessantem auf der Spur. Sie möchte die Sprache der Pflanzen entschlüsseln.»\n",
      "CC BY-NC-ND \n",
      "\n",
      "\n",
      "\n",
      "\n",
      "\n",
      "\n",
      "\n",
      "\n",
      "\n",
      "\n",
      "\n",
      "\n",
      "\n",
      "\n",
      "\n",
      "\n",
      "Newsletter abonnieren\n",
      "\n",
      "\n",
      "\n",
      "\n",
      "\n",
      "\n",
      "\n",
      "\n",
      "\n",
      "Wenn du ein Mensch bist, lasse das Feld leer: Lesen Sie auch\n",
      "\n",
      "\n",
      "\n",
      "\n",
      "Filter by\n",
      "\n",
      "\n",
      "\n",
      "                                Post type                            \n",
      "\n",
      "\n",
      "Post\n",
      "Page\n",
      "\n",
      "\n",
      "\n",
      "\n",
      "                                Category                            \n",
      "\n",
      "\n",
      "Hintergrund\n",
      "In Bildern\n",
      "Ausgabe 123\n",
      "Ausgabe 128\n",
      "Mensch und Meinung\n",
      "\n",
      "\n",
      "\n",
      "\n",
      "Sort by\n",
      "\n",
      "\n",
      "                                Title                            \n",
      "\n",
      "\n",
      "\n",
      "\n",
      "\n",
      "\n",
      "\n",
      "\n",
      "\n",
      "\n",
      "\n",
      "\n",
      "\n",
      "               Relevance            \n",
      "\n",
      "\n",
      "\n",
      "\n",
      "\n",
      "\n",
      "\n",
      "\n",
      "\n",
      "\n",
      "\n",
      "\n",
      "\n",
      "\n",
      "\n",
      "\n",
      "\n",
      "\n",
      "\n",
      "\n",
      "\n",
      "                            Roboter auf geheimer Mission im Tierreich                                                            \n",
      "\n",
      "\n",
      "8\n",
      "\n",
      "\n",
      "\n",
      "\n",
      "\n",
      "\n",
      "\n",
      "\n",
      "\n",
      "\n",
      "                            Helvetia greift nach den Sternen                                                            \n",
      "\n",
      "\n",
      "0\n",
      "\n",
      "\n",
      "\n",
      "\n",
      "\n",
      "\n",
      "\n",
      "\n",
      "\n",
      "\n",
      "                            Wo Kleider Leute der Vergangenheit machen                                                            \n",
      "\n",
      "\n",
      "0\n",
      "\n",
      "\n",
      "\n",
      "\n",
      "\n",
      "\n",
      "\n",
      "\n",
      "\n",
      "\n",
      "                            Forschende tweeten fleissig                                                            \n",
      "\n",
      "\n",
      "0\n",
      "\n",
      "\n",
      "\n",
      "\n",
      "\n",
      "\n",
      "\n",
      "\n",
      "\n",
      "\n",
      "\n",
      "\n",
      "\n",
      "\n",
      "\n",
      "Lesen Sie auch\n",
      "\n",
      "\n",
      "Filter by\n",
      "\n",
      "\n",
      "\n",
      "                                Post type                            \n",
      "\n",
      "\n",
      "Post\n",
      "Page\n",
      "\n",
      "\n",
      "\n",
      "\n",
      "                                Category                            \n",
      "\n",
      "\n",
      "Hintergrund\n",
      "In Bildern\n",
      "Ausgabe 123\n",
      "Fokus\n",
      "Ausgabe 128\n",
      "Diversität an Hochschulen\n",
      "\n",
      "\n",
      "\n",
      "\n",
      "Sort by\n",
      "\n",
      "\n",
      "                                Title                            \n",
      "\n",
      "\n",
      "\n",
      "\n",
      "\n",
      "\n",
      "\n",
      "\n",
      "\n",
      "\n",
      "\n",
      "\n",
      "\n",
      "               Relevance            \n",
      "\n",
      "\n",
      "\n",
      "\n",
      "\n",
      "\n",
      "\n",
      "\n",
      "\n",
      "\n",
      "\n",
      "\n",
      "\n",
      "\n",
      "\n",
      "\n",
      "\n",
      "\n",
      "\n",
      "\n",
      "\n",
      "                            Roboter auf geheimer Mission im Tierreich                                                            \n",
      "\n",
      "\n",
      "8\n",
      "\n",
      "\n",
      "\n",
      "\n",
      "\n",
      "\n",
      "\n",
      "\n",
      "\n",
      "\n",
      "                            Die Vielfalt der Vielfalt                                                            \n",
      "\n",
      "\n",
      "0\n",
      "\n",
      "\n",
      "\n",
      "\n",
      "\n",
      "\n",
      "\n",
      "\n",
      "\n",
      "\n",
      "                            Helvetia greift nach den Sternen                                                            \n",
      "\n",
      "\n",
      "0\n",
      "\n",
      "\n",
      "\n",
      "\n",
      "\n",
      "\n",
      "\n",
      "\n",
      "\n",
      "\n",
      "                            Aufgefallen! Versuche rund um die Welt                                                            \n",
      "\n",
      "\n",
      "0\n",
      "\n",
      "\n",
      "\n",
      "\n",
      "\n",
      "\n",
      "\n",
      "\n",
      "\n",
      "\n",
      "\n",
      "\n",
      "\n",
      "\n",
      "\n",
      "\n",
      "Über unsRedaktionImpressumDisclaimerKontakt\n",
      "\n",
      "\n",
      "\n",
      "\n",
      "\n",
      "\n",
      "\n",
      "\n",
      "\n",
      "\n",
      "\n",
      "\n",
      "\n",
      "\n",
      "\n",
      "\n",
      "\n",
      "\n",
      "\n",
      "\n",
      "\n",
      "\n",
      "\n",
      "\n",
      "\n",
      "\n",
      "\n",
      "\n",
      "\n",
      "\n",
      "\n",
      "\n",
      "\n",
      "\n",
      "\n",
      "\n",
      "\n",
      "\n",
      "\n",
      "\n",
      "\n",
      "\n",
      "\n"
     ]
    }
   ],
   "source": [
    "text = parsed_web.get_text()\n",
    "print(text)"
   ]
  },
  {
   "cell_type": "code",
   "execution_count": null,
   "id": "68e068e0-07ac-4ca6-bfd3-e3f5e099f83c",
   "metadata": {},
   "outputs": [],
   "source": []
  }
 ],
 "metadata": {
  "kernelspec": {
   "display_name": "Python 3",
   "language": "python",
   "name": "python3"
  },
  "language_info": {
   "codemirror_mode": {
    "name": "ipython",
    "version": 3
   },
   "file_extension": ".py",
   "mimetype": "text/x-python",
   "name": "python",
   "nbconvert_exporter": "python",
   "pygments_lexer": "ipython3",
   "version": "3.9.1"
  }
 },
 "nbformat": 4,
 "nbformat_minor": 5
}
